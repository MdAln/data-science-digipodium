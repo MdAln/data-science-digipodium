{
 "cells": [
  {
   "cell_type": "markdown",
   "metadata": {},
   "source": [
    "## condittions \n",
    "- if \n",
    "- if else\n",
    "- if elif else\n",
    "- match case\n"
   ]
  },
  {
   "cell_type": "code",
   "execution_count": 2,
   "metadata": {},
   "outputs": [],
   "source": [
    "x= 10\n",
    "y= 3"
   ]
  },
  {
   "cell_type": "code",
   "execution_count": 5,
   "metadata": {},
   "outputs": [
    {
     "name": "stdout",
     "output_type": "stream",
     "text": [
      "x is greater than y\n",
      "that is true\n",
      "this is outside condition\n"
     ]
    }
   ],
   "source": [
    "if x>y:\n",
    "    print(\"x is greater than y\")\n",
    "    print('that is true')\n",
    "print('this is outside condition')"
   ]
  },
  {
   "cell_type": "code",
   "execution_count": 6,
   "metadata": {},
   "outputs": [
    {
     "name": "stdout",
     "output_type": "stream",
     "text": [
      "message\n"
     ]
    }
   ],
   "source": [
    "if x>y and x>8:\n",
    "    print('message')"
   ]
  },
  {
   "cell_type": "markdown",
   "metadata": {},
   "source": [
    "true values\n",
    "- true\n",
    "- non-zero numbers\n",
    "- non-empty numbers\n",
    "## false values\n",
    "- False\n",
    "- 0\n",
    "- 0.0\n",
    "- none\n",
    "- empty string"
   ]
  },
  {
   "cell_type": "code",
   "execution_count": 8,
   "metadata": {},
   "outputs": [
    {
     "name": "stdout",
     "output_type": "stream",
     "text": [
      "you did not enter name\n"
     ]
    }
   ],
   "source": [
    "name= input(\"enter name\")\n",
    "if name:\n",
    "    print(f'you entered {name}')\n",
    "else:\n",
    "    print(f'you did not enter name')"
   ]
  },
  {
   "cell_type": "code",
   "execution_count": 9,
   "metadata": {},
   "outputs": [
    {
     "name": "stdout",
     "output_type": "stream",
     "text": [
      "even\n"
     ]
    }
   ],
   "source": [
    "number=int(input(\"enter number\"))\n",
    "if number%2==0:\n",
    "    print('even')\n",
    "else:\n",
    "    print('odd')"
   ]
  },
  {
   "cell_type": "code",
   "execution_count": 11,
   "metadata": {},
   "outputs": [
    {
     "name": "stdout",
     "output_type": "stream",
     "text": [
      "invalid password\n"
     ]
    }
   ],
   "source": [
    "username =input('enter user name')\n",
    "password =input('enter password')\n",
    "if username =='admin':\n",
    "    if password =='123admin':\n",
    "        print('welcome')\n",
    "    else:\n",
    "        print('invalid password')\n",
    "else:\n",
    "    print('invalid user')    "
   ]
  },
  {
   "cell_type": "code",
   "execution_count": 12,
   "metadata": {},
   "outputs": [
    {
     "name": "stdout",
     "output_type": "stream",
     "text": [
      "enjoy\n"
     ]
    }
   ],
   "source": [
    "day=input('enter dsy')\n",
    "if day=='monday':\n",
    "    print('monday')\n",
    "elif day =='tuesday':\n",
    "    print('tuesday')\n",
    "else:\n",
    "    print('enjoy')"
   ]
  },
  {
   "cell_type": "code",
   "execution_count": 14,
   "metadata": {},
   "outputs": [
    {
     "name": "stdout",
     "output_type": "stream",
     "text": [
      "holiday\n"
     ]
    }
   ],
   "source": [
    "day= input('enter day')\n",
    "match day:\n",
    "    case 'monday':\n",
    "        print('work')\n",
    "    case 'tuesday'|'wednesday':# pipe symboll(|)\n",
    "        print('work again')\n",
    "    case 'thursday':\n",
    "        print('its there')\n",
    "    case _:\n",
    "        print('holiday')\n"
   ]
  },
  {
   "cell_type": "code",
   "execution_count": 18,
   "metadata": {},
   "outputs": [
    {
     "name": "stdout",
     "output_type": "stream",
     "text": [
      "thank you\n"
     ]
    }
   ],
   "source": [
    "birthmonth = input('enter birth month')\n",
    "match birthmonth:\n",
    "    case 'jan':\n",
    "        print('first month')\n",
    "    case 'feb':\n",
    "        print('second month')\n",
    "    case 'march':\n",
    "        print('third month of year')\n",
    "    case 'april':\n",
    "        print('fourth month')\n",
    "    case 'may':\n",
    "        print('fifth month')\n",
    "    case 'june':\n",
    "        print('sixth month of year')\n",
    "    case 'july':\n",
    "        print('7th month')\n",
    "    case 'aug':\n",
    "        print('8th month')\n",
    "    case 'sept':\n",
    "        print('9th month of year')\n",
    "    case 'oct':\n",
    "        print('10th month')\n",
    "    case 'nov':\n",
    "        print('11th month')\n",
    "    case 'dec':\n",
    "        print('12th month of year')\n",
    "    case _:\n",
    "        print('thank you')\n",
    "    "
   ]
  },
  {
   "cell_type": "code",
   "execution_count": null,
   "metadata": {},
   "outputs": [],
   "source": []
  }
 ],
 "metadata": {
  "kernelspec": {
   "display_name": "base",
   "language": "python",
   "name": "python3"
  },
  "language_info": {
   "codemirror_mode": {
    "name": "ipython",
    "version": 3
   },
   "file_extension": ".py",
   "mimetype": "text/x-python",
   "name": "python",
   "nbconvert_exporter": "python",
   "pygments_lexer": "ipython3",
   "version": "3.10.12"
  },
  "orig_nbformat": 4
 },
 "nbformat": 4,
 "nbformat_minor": 2
}
